{
 "cells": [
  {
   "cell_type": "code",
   "execution_count": 1,
   "metadata": {
    "executionInfo": {
     "elapsed": 431,
     "status": "ok",
     "timestamp": 1660567694939,
     "user": {
      "displayName": "mohammad A",
      "userId": "09851608076072757789"
     },
     "user_tz": -270
    },
    "id": "zN-XkCB-DeC8"
   },
   "outputs": [],
   "source": [
    "import pandas as pd \n",
    "import numpy as np\n",
    "import matplotlib.pyplot as plt\n",
    "import ast\n",
    "import json\n",
    "from tqdm import tqdm_notebook\n",
    "from sklearn.linear_model import LinearRegression\n",
    "from sklearn import neighbors\n",
    "import itertools"
   ]
  },
  {
   "cell_type": "code",
   "execution_count": 3,
   "metadata": {
    "colab": {
     "base_uri": "https://localhost:8080/",
     "height": 206
    },
    "executionInfo": {
     "elapsed": 1135,
     "status": "ok",
     "timestamp": 1660567697885,
     "user": {
      "displayName": "mohammad A",
      "userId": "09851608076072757789"
     },
     "user_tz": -270
    },
    "id": "UGZzIrA1V1tq",
    "outputId": "040b3bd0-89ba-40b5-e850-62f6b99cc71a"
   },
   "outputs": [
    {
     "data": {
      "text/html": [
       "<div>\n",
       "<style scoped>\n",
       "    .dataframe tbody tr th:only-of-type {\n",
       "        vertical-align: middle;\n",
       "    }\n",
       "\n",
       "    .dataframe tbody tr th {\n",
       "        vertical-align: top;\n",
       "    }\n",
       "\n",
       "    .dataframe thead th {\n",
       "        text-align: right;\n",
       "    }\n",
       "</style>\n",
       "<table border=\"1\" class=\"dataframe\">\n",
       "  <thead>\n",
       "    <tr style=\"text-align: right;\">\n",
       "      <th></th>\n",
       "      <th>id</th>\n",
       "      <th>product_description</th>\n",
       "      <th>price</th>\n",
       "    </tr>\n",
       "  </thead>\n",
       "  <tbody>\n",
       "    <tr>\n",
       "      <th>0</th>\n",
       "      <td>0</td>\n",
       "      <td>{'مشخصات فنی': 'متراژ: 150 سانتی متر\\r\\nپورت ی...</td>\n",
       "      <td>1080000</td>\n",
       "    </tr>\n",
       "    <tr>\n",
       "      <th>1</th>\n",
       "      <td>1</td>\n",
       "      <td>{'مشخصات فنی': 'CABLE LENTH:\\r\\n10feet \\\\/3M\\r...</td>\n",
       "      <td>990000</td>\n",
       "    </tr>\n",
       "    <tr>\n",
       "      <th>2</th>\n",
       "      <td>2</td>\n",
       "      <td>{'مشخصات فنی': 'نوع کابل: KVM USB\\r\\nطول کابل:...</td>\n",
       "      <td>1680000</td>\n",
       "    </tr>\n",
       "    <tr>\n",
       "      <th>3</th>\n",
       "      <td>3</td>\n",
       "      <td>{'دسته بندی': 'کابل کمبو', 'برند': 'متفرقه'}</td>\n",
       "      <td>4500000</td>\n",
       "    </tr>\n",
       "    <tr>\n",
       "      <th>4</th>\n",
       "      <td>4</td>\n",
       "      <td>{'مشخصات فنی': 'کیبورد: 6pin Mini-DIN Male - P...</td>\n",
       "      <td>700000</td>\n",
       "    </tr>\n",
       "  </tbody>\n",
       "</table>\n",
       "</div>"
      ],
      "text/plain": [
       "   id                                product_description    price\n",
       "0   0  {'مشخصات فنی': 'متراژ: 150 سانتی متر\\r\\nپورت ی...  1080000\n",
       "1   1  {'مشخصات فنی': 'CABLE LENTH:\\r\\n10feet \\\\/3M\\r...   990000\n",
       "2   2  {'مشخصات فنی': 'نوع کابل: KVM USB\\r\\nطول کابل:...  1680000\n",
       "3   3       {'دسته بندی': 'کابل کمبو', 'برند': 'متفرقه'}  4500000\n",
       "4   4  {'مشخصات فنی': 'کیبورد: 6pin Mini-DIN Male - P...   700000"
      ]
     },
     "execution_count": 3,
     "metadata": {},
     "output_type": "execute_result"
    }
   ],
   "source": [
    "train=pd.read_csv('train.csv')\n",
    "train.head()"
   ]
  },
  {
   "cell_type": "code",
   "execution_count": 35,
   "metadata": {},
   "outputs": [
    {
     "data": {
      "text/plain": [
       "68840"
      ]
     },
     "execution_count": 35,
     "metadata": {},
     "output_type": "execute_result"
    }
   ],
   "source": [
    "len(train)"
   ]
  },
  {
   "cell_type": "code",
   "execution_count": 5,
   "metadata": {
    "colab": {
     "base_uri": "https://localhost:8080/",
     "height": 206
    },
    "executionInfo": {
     "elapsed": 1048,
     "status": "ok",
     "timestamp": 1660567701394,
     "user": {
      "displayName": "mohammad A",
      "userId": "09851608076072757789"
     },
     "user_tz": -270
    },
    "id": "gTv06xlvJ9qL",
    "outputId": "440fa9db-9685-408a-8083-0fe25b83374a"
   },
   "outputs": [
    {
     "data": {
      "text/html": [
       "<div>\n",
       "<style scoped>\n",
       "    .dataframe tbody tr th:only-of-type {\n",
       "        vertical-align: middle;\n",
       "    }\n",
       "\n",
       "    .dataframe tbody tr th {\n",
       "        vertical-align: top;\n",
       "    }\n",
       "\n",
       "    .dataframe thead th {\n",
       "        text-align: right;\n",
       "    }\n",
       "</style>\n",
       "<table border=\"1\" class=\"dataframe\">\n",
       "  <thead>\n",
       "    <tr style=\"text-align: right;\">\n",
       "      <th></th>\n",
       "      <th>id</th>\n",
       "      <th>product_description</th>\n",
       "    </tr>\n",
       "  </thead>\n",
       "  <tbody>\n",
       "    <tr>\n",
       "      <th>0</th>\n",
       "      <td>0</td>\n",
       "      <td>{'سازگار با': 'C21N1401\\r\\nX455', 'ولتاژ باتری...</td>\n",
       "    </tr>\n",
       "    <tr>\n",
       "      <th>1</th>\n",
       "      <td>1</td>\n",
       "      <td>{'سازگار با': 'A31N1519\\r\\nX540', 'ولتاژ باتری...</td>\n",
       "    </tr>\n",
       "    <tr>\n",
       "      <th>2</th>\n",
       "      <td>2</td>\n",
       "      <td>{'تعداد فن': 'ندارد', 'نوع سیستم خنک کنندگی': ...</td>\n",
       "    </tr>\n",
       "    <tr>\n",
       "      <th>3</th>\n",
       "      <td>3</td>\n",
       "      <td>{'سازگار با': 'A41N1424\\r\\nGL552\\r\\nZX50\\r\\nAS...</td>\n",
       "    </tr>\n",
       "    <tr>\n",
       "      <th>4</th>\n",
       "      <td>4</td>\n",
       "      <td>{'سازگار با': 'AP31\\r\\nASUS 1008', 'ولتاژ باتر...</td>\n",
       "    </tr>\n",
       "  </tbody>\n",
       "</table>\n",
       "</div>"
      ],
      "text/plain": [
       "   id                                product_description\n",
       "0   0  {'سازگار با': 'C21N1401\\r\\nX455', 'ولتاژ باتری...\n",
       "1   1  {'سازگار با': 'A31N1519\\r\\nX540', 'ولتاژ باتری...\n",
       "2   2  {'تعداد فن': 'ندارد', 'نوع سیستم خنک کنندگی': ...\n",
       "3   3  {'سازگار با': 'A41N1424\\r\\nGL552\\r\\nZX50\\r\\nAS...\n",
       "4   4  {'سازگار با': 'AP31\\r\\nASUS 1008', 'ولتاژ باتر..."
      ]
     },
     "execution_count": 5,
     "metadata": {},
     "output_type": "execute_result"
    }
   ],
   "source": [
    "test=pd.read_csv(\"test.csv\")\n",
    "test.head()"
   ]
  },
  {
   "cell_type": "code",
   "execution_count": 34,
   "metadata": {},
   "outputs": [
    {
     "data": {
      "text/plain": [
       "34262"
      ]
     },
     "execution_count": 34,
     "metadata": {},
     "output_type": "execute_result"
    }
   ],
   "source": [
    "len(test)"
   ]
  },
  {
   "cell_type": "code",
   "execution_count": 6,
   "metadata": {
    "colab": {
     "base_uri": "https://localhost:8080/",
     "height": 102
    },
    "executionInfo": {
     "elapsed": 572106,
     "status": "ok",
     "timestamp": 1660568273486,
     "user": {
      "displayName": "mohammad A",
      "userId": "09851608076072757789"
     },
     "user_tz": -270
    },
    "id": "8d1QUee_JttU",
    "outputId": "9f915506-02e9-4b1e-8a49-9d70b429aa12"
   },
   "outputs": [
    {
     "name": "stderr",
     "output_type": "stream",
     "text": [
      "C:\\Users\\Admin\\AppData\\Local\\Temp/ipykernel_7724/3877104310.py:2: TqdmDeprecationWarning: This function will be removed in tqdm==5.0.0\n",
      "Please use `tqdm.notebook.tqdm` instead of `tqdm.tqdm_notebook`\n",
      "  for i in tqdm_notebook(range(len(train))):\n"
     ]
    },
    {
     "data": {
      "application/vnd.jupyter.widget-view+json": {
       "model_id": "d456f59700f44a648be0b4ace5cecc7a",
       "version_major": 2,
       "version_minor": 0
      },
      "text/plain": [
       "  0%|          | 0/68840 [00:00<?, ?it/s]"
      ]
     },
     "metadata": {},
     "output_type": "display_data"
    }
   ],
   "source": [
    "list_train = []\n",
    "for i in tqdm_notebook(range(len(train))):\n",
    "    sample = train.values[i,1]\n",
    "    sample = sample.replace('\\\\n','')\n",
    "    sample = sample.replace('\\\\r','')\n",
    "    sample = sample.replace('\\\\u200c','')\n",
    "    sample = sample.replace('\\\\\\\\/','')\n",
    "    list_train.append(ast.literal_eval(sample))"
   ]
  },
  {
   "cell_type": "code",
   "execution_count": 7,
   "metadata": {
    "colab": {
     "base_uri": "https://localhost:8080/",
     "height": 102
    },
    "executionInfo": {
     "elapsed": 566333,
     "status": "ok",
     "timestamp": 1660568839808,
     "user": {
      "displayName": "mohammad A",
      "userId": "09851608076072757789"
     },
     "user_tz": -270
    },
    "id": "U2ZFZm8SK7fI",
    "outputId": "9fee0e10-bb4b-45bb-b127-13b2e878a6b1"
   },
   "outputs": [
    {
     "name": "stderr",
     "output_type": "stream",
     "text": [
      "C:\\Users\\Admin\\AppData\\Local\\Temp/ipykernel_7724/3707715163.py:2: TqdmDeprecationWarning: This function will be removed in tqdm==5.0.0\n",
      "Please use `tqdm.notebook.tqdm` instead of `tqdm.tqdm_notebook`\n",
      "  for i in tqdm_notebook(range(len(test))):\n"
     ]
    },
    {
     "data": {
      "application/vnd.jupyter.widget-view+json": {
       "model_id": "9268eb920bbe40888d8660c5f93fa88a",
       "version_major": 2,
       "version_minor": 0
      },
      "text/plain": [
       "  0%|          | 0/34262 [00:00<?, ?it/s]"
      ]
     },
     "metadata": {},
     "output_type": "display_data"
    }
   ],
   "source": [
    "list_test=[]\n",
    "for i in tqdm_notebook(range(len(test))):\n",
    "    sample = test.values[i,1]\n",
    "    sample = sample.replace('\\\\n','')\n",
    "    sample = sample.replace('\\\\r','')\n",
    "    sample = sample.replace('\\\\u200c','')\n",
    "    sample = sample.replace('\\\\\\\\/','')\n",
    "    list_test.append(ast.literal_eval(sample))"
   ]
  },
  {
   "cell_type": "code",
   "execution_count": 8,
   "metadata": {
    "executionInfo": {
     "elapsed": 45521,
     "status": "ok",
     "timestamp": 1660569079869,
     "user": {
      "displayName": "mohammad A",
      "userId": "09851608076072757789"
     },
     "user_tz": -270
    },
    "id": "dIZf9zLnbQRU"
   },
   "outputs": [],
   "source": [
    "df_train = pd.DataFrame(list_train)  \n",
    "df_train.rename({'دسته بندی': 'category'}, axis=1, inplace=True)\n",
    "df_test = pd.DataFrame(list_test)  \n",
    "df_test.rename({'دسته بندی': 'category'}, axis=1, inplace=True)"
   ]
  },
  {
   "cell_type": "code",
   "execution_count": 25,
   "metadata": {
    "executionInfo": {
     "elapsed": 16,
     "status": "ok",
     "timestamp": 1660569079870,
     "user": {
      "displayName": "mohammad A",
      "userId": "09851608076072757789"
     },
     "user_tz": -270
    },
    "id": "8jKUFxLAcf3m"
   },
   "outputs": [
    {
     "data": {
      "text/plain": [
       "array(['کابل کمبو', 'ریسوگراف', 'گام شمار', 'تجهیزات مدرن اداری', 'PBX',\n",
       "       'کارت و ماژول', 'لوازم جانبی NAS و سرور', 'گیت وی', 'هاب سوئیچ',\n",
       "       'رادیو تریگر', 'پرفراژ چک', 'کاغذ چاپ سریع', 'چتر فلاش آتلیه',\n",
       "       'کپی برد', 'رول، درام و تونر فکس',\n",
       "       'لوازم تعمیرات موبایل، تبلت و کالای دیجیتال', 'دیفیوزر',\n",
       "       'کامپیوتر سرور', 'دستگاه کپی', 'فلاش آتلیه ای',\n",
       "       'کتاب آموزش عکاسی و راهنمای دوربین', 'تجهیزات تلفن سانترال',\n",
       "       'فلاش', 'کیبورد مخصوص تبلت', 'درام', 'لیزر', 'مبدلهای سازمانی',\n",
       "       'آداپتور شبکه', 'پرینتر سه بعدی', 'پرس کارت و لمینت', 'پرزنتر',\n",
       "       'اسکناس شمار', 'استند تبلت', 'برش دهندهی کاغذ', 'سر سه پایه',\n",
       "       'توسعه دهنده محدوده بیسیم', 'کیوسک و استند لمسی', 'هدست تلفن',\n",
       "       'تشخیص اصالت اسکناس', 'ذخیره ساز تحت شبکه (NAS)', 'سافت باکس',\n",
       "       'مبدل فیبر', 'سایر لوازم جانبی پرینتر', 'آداپتور و کانورتر',\n",
       "       'لنز دوربین', 'کاغذ خردکن', 'پچ پنل', 'رفلکتور', 'چادر عکاسی',\n",
       "       'ریموت کنترل دوربین', 'کتابخوان و کاغذ دیجیتالی', 'اسکنر',\n",
       "       'هود لنز', 'قطعات یدکی کالای دیجیتال', 'کارت صدا کامپیوتر',\n",
       "       'درایو نوری', 'تلسکوپ', 'اسپلیتر', 'کابل تلفن', 'کابل آنتن',\n",
       "       'منبع تغذیه اضطراری (UPS)', 'ریبون پرینتر سوزنی', 'آنتن تقویتی',\n",
       "       'کابل رابط دوربین', 'تبلت', 'مبدل برق', 'مجموعه لوازم جانبی',\n",
       "       'لوازم جانبی عکاسی و فیلمبرداری', 'سه پایه نگهدارنده',\n",
       "       'مودم - روتر ADSL', 'لیزر پوینتر', 'سایر تجهیزات فروشگاهی',\n",
       "       'رک شبکه و سرور', 'صندوق فروشگاهی', 'شارژر استاندارد',\n",
       "       'لوازم جانبی پروژکتور', 'بارکد خوان', 'قلم نوری', 'باتری تبلت',\n",
       "       'دانگل بلوتوث', 'شارژر باتری لیتیومی دوربین', 'مچ بند هوشمند',\n",
       "       'دوربین عکاسی', 'فون (پرده)', 'دوربین فیلم برداری',\n",
       "       'محافظ صفحه نمایش دوربین', 'دستگاه کنترل تردد',\n",
       "       'قلم لمسی (Stylus)', 'فن کیس', 'سایر لوازم جانبی تلفن',\n",
       "       'پرینتر لیبل زن و پرینتر حرارتی', 'باتری تلفن',\n",
       "       'لوازم جانبی مک بوک', 'کیس کامپیوتر', 'میکروسکوپ', 'اینترنت اشیا',\n",
       "       'روتر و اکسس پوینت', 'ویدیو پروژکتور', 'مادربرد',\n",
       "       'هارد دیسک اکسترنال', 'لوازم جانبی دوربین های امنیتی و نظارتی',\n",
       "       'بند آویز و کمربند دوربین', 'سایر لوازم جانبی دوربین',\n",
       "       'کارت گرافیک', 'وبکم', 'نمایشگر (مانیتور)', 'ترازوی فروشگاهی',\n",
       "       'کارت شبکه', 'کابل رابط پرینتر', 'کامپیوترهای کوچک', 'باتری UPS',\n",
       "       'کیت تمیز کننده', 'سه پایه و تک پایه', 'پردازنده', 'لوح فشرده',\n",
       "       'کارتخوان', 'خنک کننده پردازنده', 'شارژر مخصوص لپتاپ',\n",
       "       'لوازم جانبی دوربین های ورزشی', 'کامپیوترهای All-in-One',\n",
       "       'هارددیسک اینترنال', 'دسته بازی', 'منبع تغذیه کامپیوتر',\n",
       "       'برچسب پرینتر لیبل زن', 'پرینتر',\n",
       "       'لوازم جانبی پرینتر لیبل زن و حرارتی', 'کاغذ چاپگر و نگاتیو',\n",
       "       'مبدل', 'سوییچ', 'کیس های اسمبل شده', 'تجهیزات ویدیویی',\n",
       "       'کیف دوربین', 'باتری لپتاپ', 'مودم - روتر 3G و 4G و 5G',\n",
       "       'فیلتر لنز و آداپتور فیلتر', 'کابل افزایش طول', 'تابلوی LED',\n",
       "       'استند و پایه خنککننده', 'گوشی موبایل', 'حافظه SSD', 'ابزار شبکه',\n",
       "       'باتری لیتیومی', 'کارتریج و جوهر مخزن', 'USB هاب', 'تلفن',\n",
       "       'کارت حافظه', 'ماشین حساب', 'کابل شبکه (LAN)',\n",
       "       'ضبطکننده ویدئویی دوربینهای امنیتی و نظارتی',\n",
       "       'لوازم جانبی تجهیزات ذخیره سازی', 'ماوس پد', 'نور ثابت', 'تونر',\n",
       "       'بند ساعت و مچ بند', 'رم کامپیوتر و لپتاپ (RAM)',\n",
       "       'لپ تاپ و الترابوک', 'کیبورد (صفحه کلید)', 'کیف و کاور تبلت',\n",
       "       'ساعت هوشمند', 'سایر لوازم جانبی لپ تاپ',\n",
       "       'لوازم جانبی قطعات کامپیوتر', 'محافظ صفحه نمایش تبلت',\n",
       "       'دوربین های امنیتی و نظارتی', 'کیف و کاور لپ تاپ',\n",
       "       'لوازم جانبی اپل واچ', 'پاوربانک (شارژر همراه)',\n",
       "       'پایه نگهدارنده گوشی و تبلت', 'قطعات جانبی موبایل و تبلت',\n",
       "       'قطعات یدکی موبایل و تبلت', 'لوازم جانبی ساعت و مچ بند هوشمند',\n",
       "       'ماوس (موشواره)', 'کابل صوتی و تصویری', 'اسپیکر (بلندگو)',\n",
       "       'باتری استاندارد', 'باتری گوشی', 'فلش مموری',\n",
       "       'محافظ لنز گوشی موبایل', 'هدفون، هدست و هندزفری', 'کابل و مبدل',\n",
       "       'شارژر تبلت و موبایل'], dtype=object)"
      ]
     },
     "execution_count": 25,
     "metadata": {},
     "output_type": "execute_result"
    }
   ],
   "source": [
    "UniqueNames_train = df_train['category'].unique()\n",
    "UniqueNames_test  = df_test['category'].unique()\n"
   ]
  },
  {
   "cell_type": "code",
   "execution_count": 16,
   "metadata": {
    "executionInfo": {
     "elapsed": 3447,
     "status": "ok",
     "timestamp": 1660569083302,
     "user": {
      "displayName": "mohammad A",
      "userId": "09851608076072757789"
     },
     "user_tz": -270
    },
    "id": "qbgKsRYvdnmz"
   },
   "outputs": [],
   "source": [
    "DataFrameDict_train = {elem : pd.DataFrame() for elem in UniqueNames_train}\n",
    "\n",
    "for key in DataFrameDict_train.keys():\n",
    "    DataFrameDict_train[key] = df_train[:][df_train.category== key]\n"
   ]
  },
  {
   "cell_type": "code",
   "execution_count": 17,
   "metadata": {
    "executionInfo": {
     "elapsed": 3810,
     "status": "ok",
     "timestamp": 1660568886080,
     "user": {
      "displayName": "mohammad A",
      "userId": "09851608076072757789"
     },
     "user_tz": -270
    },
    "id": "-yahixkCPpj2"
   },
   "outputs": [],
   "source": [
    "DataFrameDict_test = {elem : pd.DataFrame() for elem in UniqueNames_test}\n",
    "\n",
    "for key in DataFrameDict_test.keys():\n",
    "    DataFrameDict_test[key] = df_test[:][df_test.category== key]"
   ]
  },
  {
   "cell_type": "code",
   "execution_count": 18,
   "metadata": {
    "executionInfo": {
     "elapsed": 26,
     "status": "ok",
     "timestamp": 1660568886081,
     "user": {
      "displayName": "mohammad A",
      "userId": "09851608076072757789"
     },
     "user_tz": -270
    },
    "id": "8z1P1STx78A_"
   },
   "outputs": [],
   "source": [
    "def to_numericcc(df): \n",
    "    dictt={}\n",
    "    for col in df.columns:\n",
    "        df[col] = df[col].apply(lambda x: str(x)) #اینجا تبدیل به رشته می‌کنم به خاطر این که یه سری ستون آرایه بود! اونا به مشکل بر میخوره برای مپ کردن\n",
    "        u_list = list(df[col].unique()) # اینجا آیتم‌های یونیک رو میگیرم\n",
    "        number_list = list(range(len(u_list))) #به تعداد اونا عدد جنریت میکنم که بعدش یک به یک قرار بدم\n",
    "        r_map = {x:y for x,y in zip(u_list, number_list)} # حالا اون دیکشنری رو می‌سازم\n",
    "        dictt.update(r_map)\n",
    "        df[col] = df[col].replace(r_map) # اینجا هم رشته‌ها رو با اون عددی که مقابلش هست جا به جا میکنم\n",
    "    return df ,dictt"
   ]
  },
  {
   "cell_type": "code",
   "execution_count": 54,
   "metadata": {
    "executionInfo": {
     "elapsed": 31546,
     "status": "ok",
     "timestamp": 1660570413033,
     "user": {
      "displayName": "mohammad A",
      "userId": "09851608076072757789"
     },
     "user_tz": -270
    },
    "id": "oXndgcgrqmPo"
   },
   "outputs": [],
   "source": [
    "ii={}\n",
    "yt={}\n",
    "kt={}\n",
    "for i in UniqueNames_train:\n",
    "    rr=DataFrameDict_train[i]\n",
    "    cate=i\n",
    "    rrr=rr.dropna(thresh=len(rr)/3, axis=1)\n",
    "    rrr=rrr.drop('category', axis=1)\n",
    "    index = rrr.index\n",
    "    y=train['price'][index]\n",
    "    #rrr=pd.get_dummies(rrr)\n",
    "    X,eee=to_numericcc(rrr)\n",
    "    yt.update({cate: eee})\n",
    "    reg = LinearRegression().fit(X, y)\n",
    "    ii[cate]=reg\n",
    "\n",
    "\n",
    "\n"
   ]
  },
  {
   "cell_type": "code",
   "execution_count": 46,
   "metadata": {},
   "outputs": [],
   "source": [
    "def to_numeric_test(df,pp): \n",
    "    for col in df.columns:\n",
    "        df[col] = df[col].apply(lambda x: str(x)) #اینجا تبدیل به رشته می‌کنم به خاطر این که یه سری ستون آرایه بود! اونا به مشکل بر میخوره برای مپ کردن\n",
    "        u_list = list(df[col].unique()) # اینجا آیتم‌های یونیک رو میگیرمم\n",
    "        \n",
    "        df[col] = df[col].replace(pp) # اینجا هم رشته‌ها رو با اون عددی که مقابلش هست جا به جا میکنم\n",
    "    return df"
   ]
  },
  {
   "cell_type": "code",
   "execution_count": 135,
   "metadata": {
    "colab": {
     "base_uri": "https://localhost:8080/",
     "height": 512
    },
    "executionInfo": {
     "elapsed": 448,
     "status": "error",
     "timestamp": 1660557250575,
     "user": {
      "displayName": "mohammad A",
      "userId": "09851608076072757789"
     },
     "user_tz": -270
    },
    "id": "GW9IsnY_RZGV",
    "outputId": "22a4fe89-ba7a-46fb-8244-aab94ea1673b"
   },
   "outputs": [],
   "source": [
    "final={}\n",
    "\n",
    "for i in UniqueNames_test:\n",
    "    pp=yt[i]\n",
    "    rr=DataFrameDict_test[i]\n",
    "    cate=i\n",
    "    rrr=rr.dropna(thresh=len(rr)/3, axis=1)\n",
    "    rrr=rrr.drop('category', axis=1)\n",
    "    X=to_numeric_test(rrr,pp)\n",
    "    df1 = X.apply(pd.to_numeric, args=('coerce',))\n",
    "    df2=df1.fillna(0)\n",
    "    index = df2.index\n",
    "    features=df2.columns\n",
    "    for k in index:\n",
    "        try:\n",
    "            final[k]=float(ii[i].predict(df2.loc[[k]]))\n",
    "        except:\n",
    "            final[k]=1000.001\n",
    "        \n",
    "\n",
    "    \n",
    "    \n",
    "\n",
    "\n",
    "\n"
   ]
  },
  {
   "cell_type": "code",
   "execution_count": 136,
   "metadata": {},
   "outputs": [],
   "source": [
    "dict1 = OrderedDict(sorted(final.items()))\n"
   ]
  },
  {
   "cell_type": "code",
   "execution_count": 138,
   "metadata": {},
   "outputs": [],
   "source": [
    "diccc={}\n",
    "diccc['id']=dict1.keys()\n",
    "diccc['price']=dict1.values()"
   ]
  },
  {
   "cell_type": "code",
   "execution_count": 141,
   "metadata": {},
   "outputs": [],
   "source": [
    "final_final=pd.DataFrame.from_dict(diccc)"
   ]
  },
  {
   "cell_type": "code",
   "execution_count": 152,
   "metadata": {},
   "outputs": [],
   "source": [
    "final_final.to_csv('output.csv',encoding='utf-8', index=False)"
   ]
  },
  {
   "cell_type": "code",
   "execution_count": 153,
   "metadata": {},
   "outputs": [
    {
     "name": "stderr",
     "output_type": "stream",
     "text": [
      "C:\\Users\\Admin\\AppData\\Local\\Temp/ipykernel_7724/1264543221.py:1: FutureWarning: As the xlwt package is no longer maintained, the xlwt engine will be removed in a future version of pandas. This is the only engine in pandas that supports writing in the xls format. Install openpyxl and write to an xlsx file instead. You can set the option io.excel.xls.writer to 'xlwt' to silence this warning. While this option is deprecated and will also raise a warning, it can be globally set and the warning suppressed.\n",
      "  final_final.to_excel('output.xls',encoding='utf-8',index=False)\n"
     ]
    }
   ],
   "source": [
    "final_final.to_excel('output.xls',encoding='utf-8',index=False)"
   ]
  },
  {
   "cell_type": "code",
   "execution_count": null,
   "metadata": {},
   "outputs": [],
   "source": []
  }
 ],
 "metadata": {
  "colab": {
   "authorship_tag": "ABX9TyNTB6GMen7owafBhDeOQ/N5",
   "collapsed_sections": [],
   "name": "Untitled19.ipynb",
   "version": ""
  },
  "kernelspec": {
   "display_name": "Python 3 (ipykernel)",
   "language": "python",
   "name": "python3"
  },
  "language_info": {
   "codemirror_mode": {
    "name": "ipython",
    "version": 3
   },
   "file_extension": ".py",
   "mimetype": "text/x-python",
   "name": "python",
   "nbconvert_exporter": "python",
   "pygments_lexer": "ipython3",
   "version": "3.9.7"
  },
  "widgets": {
   "application/vnd.jupyter.widget-state+json": {
    "1d0e823b74014df2822c20bd91b0dcc8": {
     "model_module": "@jupyter-widgets/base",
     "model_module_version": "1.2.0",
     "model_name": "LayoutModel",
     "state": {
      "_model_module": "@jupyter-widgets/base",
      "_model_module_version": "1.2.0",
      "_model_name": "LayoutModel",
      "_view_count": null,
      "_view_module": "@jupyter-widgets/base",
      "_view_module_version": "1.2.0",
      "_view_name": "LayoutView",
      "align_content": null,
      "align_items": null,
      "align_self": null,
      "border": null,
      "bottom": null,
      "display": null,
      "flex": null,
      "flex_flow": null,
      "grid_area": null,
      "grid_auto_columns": null,
      "grid_auto_flow": null,
      "grid_auto_rows": null,
      "grid_column": null,
      "grid_gap": null,
      "grid_row": null,
      "grid_template_areas": null,
      "grid_template_columns": null,
      "grid_template_rows": null,
      "height": null,
      "justify_content": null,
      "justify_items": null,
      "left": null,
      "margin": null,
      "max_height": null,
      "max_width": null,
      "min_height": null,
      "min_width": null,
      "object_fit": null,
      "object_position": null,
      "order": null,
      "overflow": null,
      "overflow_x": null,
      "overflow_y": null,
      "padding": null,
      "right": null,
      "top": null,
      "visibility": null,
      "width": null
     }
    },
    "223cc649d0c440e0944547a07f8c32d9": {
     "model_module": "@jupyter-widgets/base",
     "model_module_version": "1.2.0",
     "model_name": "LayoutModel",
     "state": {
      "_model_module": "@jupyter-widgets/base",
      "_model_module_version": "1.2.0",
      "_model_name": "LayoutModel",
      "_view_count": null,
      "_view_module": "@jupyter-widgets/base",
      "_view_module_version": "1.2.0",
      "_view_name": "LayoutView",
      "align_content": null,
      "align_items": null,
      "align_self": null,
      "border": null,
      "bottom": null,
      "display": null,
      "flex": null,
      "flex_flow": null,
      "grid_area": null,
      "grid_auto_columns": null,
      "grid_auto_flow": null,
      "grid_auto_rows": null,
      "grid_column": null,
      "grid_gap": null,
      "grid_row": null,
      "grid_template_areas": null,
      "grid_template_columns": null,
      "grid_template_rows": null,
      "height": null,
      "justify_content": null,
      "justify_items": null,
      "left": null,
      "margin": null,
      "max_height": null,
      "max_width": null,
      "min_height": null,
      "min_width": null,
      "object_fit": null,
      "object_position": null,
      "order": null,
      "overflow": null,
      "overflow_x": null,
      "overflow_y": null,
      "padding": null,
      "right": null,
      "top": null,
      "visibility": null,
      "width": null
     }
    },
    "2e37900dc1ad4ea58e8708af8db37640": {
     "model_module": "@jupyter-widgets/controls",
     "model_module_version": "1.5.0",
     "model_name": "HTMLModel",
     "state": {
      "_dom_classes": [],
      "_model_module": "@jupyter-widgets/controls",
      "_model_module_version": "1.5.0",
      "_model_name": "HTMLModel",
      "_view_count": null,
      "_view_module": "@jupyter-widgets/controls",
      "_view_module_version": "1.5.0",
      "_view_name": "HTMLView",
      "description": "",
      "description_tooltip": null,
      "layout": "IPY_MODEL_fe1e2d95241247d9920f3bea618e2123",
      "placeholder": "​",
      "style": "IPY_MODEL_f0c4f7b07b604779acd7d57bc30b1afe",
      "value": "100%"
     }
    },
    "409b98adde504f7cae487c564f397d07": {
     "model_module": "@jupyter-widgets/controls",
     "model_module_version": "1.5.0",
     "model_name": "FloatProgressModel",
     "state": {
      "_dom_classes": [],
      "_model_module": "@jupyter-widgets/controls",
      "_model_module_version": "1.5.0",
      "_model_name": "FloatProgressModel",
      "_view_count": null,
      "_view_module": "@jupyter-widgets/controls",
      "_view_module_version": "1.5.0",
      "_view_name": "ProgressView",
      "bar_style": "success",
      "description": "",
      "description_tooltip": null,
      "layout": "IPY_MODEL_f98e52478d6d4db4abd72f3581e0c8a1",
      "max": 68840,
      "min": 0,
      "orientation": "horizontal",
      "style": "IPY_MODEL_a0abff2f89704014b3b80f90bd1b57f4",
      "value": 68840
     }
    },
    "41485729a22c4201a2496d3e092cd14c": {
     "model_module": "@jupyter-widgets/base",
     "model_module_version": "1.2.0",
     "model_name": "LayoutModel",
     "state": {
      "_model_module": "@jupyter-widgets/base",
      "_model_module_version": "1.2.0",
      "_model_name": "LayoutModel",
      "_view_count": null,
      "_view_module": "@jupyter-widgets/base",
      "_view_module_version": "1.2.0",
      "_view_name": "LayoutView",
      "align_content": null,
      "align_items": null,
      "align_self": null,
      "border": null,
      "bottom": null,
      "display": null,
      "flex": null,
      "flex_flow": null,
      "grid_area": null,
      "grid_auto_columns": null,
      "grid_auto_flow": null,
      "grid_auto_rows": null,
      "grid_column": null,
      "grid_gap": null,
      "grid_row": null,
      "grid_template_areas": null,
      "grid_template_columns": null,
      "grid_template_rows": null,
      "height": null,
      "justify_content": null,
      "justify_items": null,
      "left": null,
      "margin": null,
      "max_height": null,
      "max_width": null,
      "min_height": null,
      "min_width": null,
      "object_fit": null,
      "object_position": null,
      "order": null,
      "overflow": null,
      "overflow_x": null,
      "overflow_y": null,
      "padding": null,
      "right": null,
      "top": null,
      "visibility": null,
      "width": null
     }
    },
    "5edbf02f14cb4b54b0465dde7d5c6080": {
     "model_module": "@jupyter-widgets/controls",
     "model_module_version": "1.5.0",
     "model_name": "ProgressStyleModel",
     "state": {
      "_model_module": "@jupyter-widgets/controls",
      "_model_module_version": "1.5.0",
      "_model_name": "ProgressStyleModel",
      "_view_count": null,
      "_view_module": "@jupyter-widgets/base",
      "_view_module_version": "1.2.0",
      "_view_name": "StyleView",
      "bar_color": null,
      "description_width": ""
     }
    },
    "60c8477524db4ffc8a7cd27b30ecdc3f": {
     "model_module": "@jupyter-widgets/controls",
     "model_module_version": "1.5.0",
     "model_name": "DescriptionStyleModel",
     "state": {
      "_model_module": "@jupyter-widgets/controls",
      "_model_module_version": "1.5.0",
      "_model_name": "DescriptionStyleModel",
      "_view_count": null,
      "_view_module": "@jupyter-widgets/base",
      "_view_module_version": "1.2.0",
      "_view_name": "StyleView",
      "description_width": ""
     }
    },
    "9aca3cb6427541a5bca215683409bdbf": {
     "model_module": "@jupyter-widgets/controls",
     "model_module_version": "1.5.0",
     "model_name": "HTMLModel",
     "state": {
      "_dom_classes": [],
      "_model_module": "@jupyter-widgets/controls",
      "_model_module_version": "1.5.0",
      "_model_name": "HTMLModel",
      "_view_count": null,
      "_view_module": "@jupyter-widgets/controls",
      "_view_module_version": "1.5.0",
      "_view_name": "HTMLView",
      "description": "",
      "description_tooltip": null,
      "layout": "IPY_MODEL_223cc649d0c440e0944547a07f8c32d9",
      "placeholder": "​",
      "style": "IPY_MODEL_a9a9f30ae9fd45e380f3b777e2c2f047",
      "value": "100%"
     }
    },
    "a0abff2f89704014b3b80f90bd1b57f4": {
     "model_module": "@jupyter-widgets/controls",
     "model_module_version": "1.5.0",
     "model_name": "ProgressStyleModel",
     "state": {
      "_model_module": "@jupyter-widgets/controls",
      "_model_module_version": "1.5.0",
      "_model_name": "ProgressStyleModel",
      "_view_count": null,
      "_view_module": "@jupyter-widgets/base",
      "_view_module_version": "1.2.0",
      "_view_name": "StyleView",
      "bar_color": null,
      "description_width": ""
     }
    },
    "a7bedc4a9e9c488b970749525a3e589b": {
     "model_module": "@jupyter-widgets/base",
     "model_module_version": "1.2.0",
     "model_name": "LayoutModel",
     "state": {
      "_model_module": "@jupyter-widgets/base",
      "_model_module_version": "1.2.0",
      "_model_name": "LayoutModel",
      "_view_count": null,
      "_view_module": "@jupyter-widgets/base",
      "_view_module_version": "1.2.0",
      "_view_name": "LayoutView",
      "align_content": null,
      "align_items": null,
      "align_self": null,
      "border": null,
      "bottom": null,
      "display": null,
      "flex": null,
      "flex_flow": null,
      "grid_area": null,
      "grid_auto_columns": null,
      "grid_auto_flow": null,
      "grid_auto_rows": null,
      "grid_column": null,
      "grid_gap": null,
      "grid_row": null,
      "grid_template_areas": null,
      "grid_template_columns": null,
      "grid_template_rows": null,
      "height": null,
      "justify_content": null,
      "justify_items": null,
      "left": null,
      "margin": null,
      "max_height": null,
      "max_width": null,
      "min_height": null,
      "min_width": null,
      "object_fit": null,
      "object_position": null,
      "order": null,
      "overflow": null,
      "overflow_x": null,
      "overflow_y": null,
      "padding": null,
      "right": null,
      "top": null,
      "visibility": null,
      "width": null
     }
    },
    "a8ec636e646047b1905642a3e131e5c0": {
     "model_module": "@jupyter-widgets/controls",
     "model_module_version": "1.5.0",
     "model_name": "HBoxModel",
     "state": {
      "_dom_classes": [],
      "_model_module": "@jupyter-widgets/controls",
      "_model_module_version": "1.5.0",
      "_model_name": "HBoxModel",
      "_view_count": null,
      "_view_module": "@jupyter-widgets/controls",
      "_view_module_version": "1.5.0",
      "_view_name": "HBoxView",
      "box_style": "",
      "children": [
       "IPY_MODEL_9aca3cb6427541a5bca215683409bdbf",
       "IPY_MODEL_409b98adde504f7cae487c564f397d07",
       "IPY_MODEL_b42825086f014774adb9add6cbded2dd"
      ],
      "layout": "IPY_MODEL_41485729a22c4201a2496d3e092cd14c"
     }
    },
    "a9a9f30ae9fd45e380f3b777e2c2f047": {
     "model_module": "@jupyter-widgets/controls",
     "model_module_version": "1.5.0",
     "model_name": "DescriptionStyleModel",
     "state": {
      "_model_module": "@jupyter-widgets/controls",
      "_model_module_version": "1.5.0",
      "_model_name": "DescriptionStyleModel",
      "_view_count": null,
      "_view_module": "@jupyter-widgets/base",
      "_view_module_version": "1.2.0",
      "_view_name": "StyleView",
      "description_width": ""
     }
    },
    "ac88e5266e964980b9a850c886551c8d": {
     "model_module": "@jupyter-widgets/controls",
     "model_module_version": "1.5.0",
     "model_name": "FloatProgressModel",
     "state": {
      "_dom_classes": [],
      "_model_module": "@jupyter-widgets/controls",
      "_model_module_version": "1.5.0",
      "_model_name": "FloatProgressModel",
      "_view_count": null,
      "_view_module": "@jupyter-widgets/controls",
      "_view_module_version": "1.5.0",
      "_view_name": "ProgressView",
      "bar_style": "success",
      "description": "",
      "description_tooltip": null,
      "layout": "IPY_MODEL_1d0e823b74014df2822c20bd91b0dcc8",
      "max": 68840,
      "min": 0,
      "orientation": "horizontal",
      "style": "IPY_MODEL_5edbf02f14cb4b54b0465dde7d5c6080",
      "value": 68840
     }
    },
    "b39667e067eb4e29a733361729dc3bcc": {
     "model_module": "@jupyter-widgets/controls",
     "model_module_version": "1.5.0",
     "model_name": "HBoxModel",
     "state": {
      "_dom_classes": [],
      "_model_module": "@jupyter-widgets/controls",
      "_model_module_version": "1.5.0",
      "_model_name": "HBoxModel",
      "_view_count": null,
      "_view_module": "@jupyter-widgets/controls",
      "_view_module_version": "1.5.0",
      "_view_name": "HBoxView",
      "box_style": "",
      "children": [
       "IPY_MODEL_2e37900dc1ad4ea58e8708af8db37640",
       "IPY_MODEL_ac88e5266e964980b9a850c886551c8d",
       "IPY_MODEL_be6dbac90e87440a8b3a07b5d0ccd26d"
      ],
      "layout": "IPY_MODEL_d486ac83b6184ee3a2d29baaa74e3a8f"
     }
    },
    "b42825086f014774adb9add6cbded2dd": {
     "model_module": "@jupyter-widgets/controls",
     "model_module_version": "1.5.0",
     "model_name": "HTMLModel",
     "state": {
      "_dom_classes": [],
      "_model_module": "@jupyter-widgets/controls",
      "_model_module_version": "1.5.0",
      "_model_name": "HTMLModel",
      "_view_count": null,
      "_view_module": "@jupyter-widgets/controls",
      "_view_module_version": "1.5.0",
      "_view_name": "HTMLView",
      "description": "",
      "description_tooltip": null,
      "layout": "IPY_MODEL_a7bedc4a9e9c488b970749525a3e589b",
      "placeholder": "​",
      "style": "IPY_MODEL_60c8477524db4ffc8a7cd27b30ecdc3f",
      "value": " 68840/68840 [09:31&lt;00:00, 126.01it/s]"
     }
    },
    "be6dbac90e87440a8b3a07b5d0ccd26d": {
     "model_module": "@jupyter-widgets/controls",
     "model_module_version": "1.5.0",
     "model_name": "HTMLModel",
     "state": {
      "_dom_classes": [],
      "_model_module": "@jupyter-widgets/controls",
      "_model_module_version": "1.5.0",
      "_model_name": "HTMLModel",
      "_view_count": null,
      "_view_module": "@jupyter-widgets/controls",
      "_view_module_version": "1.5.0",
      "_view_name": "HTMLView",
      "description": "",
      "description_tooltip": null,
      "layout": "IPY_MODEL_e74bea741f0c45daa21961ca7c4e94f2",
      "placeholder": "​",
      "style": "IPY_MODEL_e6a3cf21163040f8b15bc76e89371d99",
      "value": " 68840/68840 [09:26&lt;00:00, 113.74it/s]"
     }
    },
    "d486ac83b6184ee3a2d29baaa74e3a8f": {
     "model_module": "@jupyter-widgets/base",
     "model_module_version": "1.2.0",
     "model_name": "LayoutModel",
     "state": {
      "_model_module": "@jupyter-widgets/base",
      "_model_module_version": "1.2.0",
      "_model_name": "LayoutModel",
      "_view_count": null,
      "_view_module": "@jupyter-widgets/base",
      "_view_module_version": "1.2.0",
      "_view_name": "LayoutView",
      "align_content": null,
      "align_items": null,
      "align_self": null,
      "border": null,
      "bottom": null,
      "display": null,
      "flex": null,
      "flex_flow": null,
      "grid_area": null,
      "grid_auto_columns": null,
      "grid_auto_flow": null,
      "grid_auto_rows": null,
      "grid_column": null,
      "grid_gap": null,
      "grid_row": null,
      "grid_template_areas": null,
      "grid_template_columns": null,
      "grid_template_rows": null,
      "height": null,
      "justify_content": null,
      "justify_items": null,
      "left": null,
      "margin": null,
      "max_height": null,
      "max_width": null,
      "min_height": null,
      "min_width": null,
      "object_fit": null,
      "object_position": null,
      "order": null,
      "overflow": null,
      "overflow_x": null,
      "overflow_y": null,
      "padding": null,
      "right": null,
      "top": null,
      "visibility": null,
      "width": null
     }
    },
    "e6a3cf21163040f8b15bc76e89371d99": {
     "model_module": "@jupyter-widgets/controls",
     "model_module_version": "1.5.0",
     "model_name": "DescriptionStyleModel",
     "state": {
      "_model_module": "@jupyter-widgets/controls",
      "_model_module_version": "1.5.0",
      "_model_name": "DescriptionStyleModel",
      "_view_count": null,
      "_view_module": "@jupyter-widgets/base",
      "_view_module_version": "1.2.0",
      "_view_name": "StyleView",
      "description_width": ""
     }
    },
    "e74bea741f0c45daa21961ca7c4e94f2": {
     "model_module": "@jupyter-widgets/base",
     "model_module_version": "1.2.0",
     "model_name": "LayoutModel",
     "state": {
      "_model_module": "@jupyter-widgets/base",
      "_model_module_version": "1.2.0",
      "_model_name": "LayoutModel",
      "_view_count": null,
      "_view_module": "@jupyter-widgets/base",
      "_view_module_version": "1.2.0",
      "_view_name": "LayoutView",
      "align_content": null,
      "align_items": null,
      "align_self": null,
      "border": null,
      "bottom": null,
      "display": null,
      "flex": null,
      "flex_flow": null,
      "grid_area": null,
      "grid_auto_columns": null,
      "grid_auto_flow": null,
      "grid_auto_rows": null,
      "grid_column": null,
      "grid_gap": null,
      "grid_row": null,
      "grid_template_areas": null,
      "grid_template_columns": null,
      "grid_template_rows": null,
      "height": null,
      "justify_content": null,
      "justify_items": null,
      "left": null,
      "margin": null,
      "max_height": null,
      "max_width": null,
      "min_height": null,
      "min_width": null,
      "object_fit": null,
      "object_position": null,
      "order": null,
      "overflow": null,
      "overflow_x": null,
      "overflow_y": null,
      "padding": null,
      "right": null,
      "top": null,
      "visibility": null,
      "width": null
     }
    },
    "f0c4f7b07b604779acd7d57bc30b1afe": {
     "model_module": "@jupyter-widgets/controls",
     "model_module_version": "1.5.0",
     "model_name": "DescriptionStyleModel",
     "state": {
      "_model_module": "@jupyter-widgets/controls",
      "_model_module_version": "1.5.0",
      "_model_name": "DescriptionStyleModel",
      "_view_count": null,
      "_view_module": "@jupyter-widgets/base",
      "_view_module_version": "1.2.0",
      "_view_name": "StyleView",
      "description_width": ""
     }
    },
    "f98e52478d6d4db4abd72f3581e0c8a1": {
     "model_module": "@jupyter-widgets/base",
     "model_module_version": "1.2.0",
     "model_name": "LayoutModel",
     "state": {
      "_model_module": "@jupyter-widgets/base",
      "_model_module_version": "1.2.0",
      "_model_name": "LayoutModel",
      "_view_count": null,
      "_view_module": "@jupyter-widgets/base",
      "_view_module_version": "1.2.0",
      "_view_name": "LayoutView",
      "align_content": null,
      "align_items": null,
      "align_self": null,
      "border": null,
      "bottom": null,
      "display": null,
      "flex": null,
      "flex_flow": null,
      "grid_area": null,
      "grid_auto_columns": null,
      "grid_auto_flow": null,
      "grid_auto_rows": null,
      "grid_column": null,
      "grid_gap": null,
      "grid_row": null,
      "grid_template_areas": null,
      "grid_template_columns": null,
      "grid_template_rows": null,
      "height": null,
      "justify_content": null,
      "justify_items": null,
      "left": null,
      "margin": null,
      "max_height": null,
      "max_width": null,
      "min_height": null,
      "min_width": null,
      "object_fit": null,
      "object_position": null,
      "order": null,
      "overflow": null,
      "overflow_x": null,
      "overflow_y": null,
      "padding": null,
      "right": null,
      "top": null,
      "visibility": null,
      "width": null
     }
    },
    "fe1e2d95241247d9920f3bea618e2123": {
     "model_module": "@jupyter-widgets/base",
     "model_module_version": "1.2.0",
     "model_name": "LayoutModel",
     "state": {
      "_model_module": "@jupyter-widgets/base",
      "_model_module_version": "1.2.0",
      "_model_name": "LayoutModel",
      "_view_count": null,
      "_view_module": "@jupyter-widgets/base",
      "_view_module_version": "1.2.0",
      "_view_name": "LayoutView",
      "align_content": null,
      "align_items": null,
      "align_self": null,
      "border": null,
      "bottom": null,
      "display": null,
      "flex": null,
      "flex_flow": null,
      "grid_area": null,
      "grid_auto_columns": null,
      "grid_auto_flow": null,
      "grid_auto_rows": null,
      "grid_column": null,
      "grid_gap": null,
      "grid_row": null,
      "grid_template_areas": null,
      "grid_template_columns": null,
      "grid_template_rows": null,
      "height": null,
      "justify_content": null,
      "justify_items": null,
      "left": null,
      "margin": null,
      "max_height": null,
      "max_width": null,
      "min_height": null,
      "min_width": null,
      "object_fit": null,
      "object_position": null,
      "order": null,
      "overflow": null,
      "overflow_x": null,
      "overflow_y": null,
      "padding": null,
      "right": null,
      "top": null,
      "visibility": null,
      "width": null
     }
    }
   }
  }
 },
 "nbformat": 4,
 "nbformat_minor": 1
}
